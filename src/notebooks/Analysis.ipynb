{
 "cells": [
  {
   "cell_type": "markdown",
   "metadata": {},
   "source": [
    "# Análise sobre os Preços dos Combustíveis no Brasil\n",
    "\n",
    "Aluno: Rafael Pereira Cândido\n",
    "\n",
    "Matrícula: 2221134\n",
    "\n",
    "Curso: Ciência da Computação\n",
    "\n",
    "Esse trabalho tem o propósito de analizar os preços dos combustíveis no Brasil do período de 2003 até 2023."
   ]
  },
  {
   "cell_type": "markdown",
   "metadata": {},
   "source": [
    "Chat sobre as queries e modelagem...: https://chatgpt.com/share/973eee34-e214-485c-8001-240b457834bf"
   ]
  },
  {
   "cell_type": "code",
   "execution_count": 1,
   "metadata": {},
   "outputs": [],
   "source": [
    "from pyspark.sql import SparkSession\n",
    "from pyspark.sql.types import DoubleType, StringType\n",
    "from pyspark.sql import functions as f\n",
    "from uuid import uuid4\n",
    "import matplotlib.pyplot as plt\n",
    "import seaborn as sns"
   ]
  },
  {
   "cell_type": "code",
   "execution_count": 13,
   "metadata": {},
   "outputs": [],
   "source": [
    "url = \"jdbc:postgresql://db:5432/fuel_analysis\"\n",
    "properties = {\n",
    "    \"user\": \"root\",\n",
    "    \"password\": \"root\",\n",
    "    \"driver\": \"org.postgresql.Driver\"\n",
    "}"
   ]
  },
  {
   "cell_type": "code",
   "execution_count": 3,
   "metadata": {},
   "outputs": [],
   "source": [
    "# PYSPARK UTILS\n",
    "def create_uuid():\n",
    "    return str(uuid4())\n",
    "\n",
    "uuid_udf = f.udf(lambda: create_uuid(), StringType())\n",
    "\n"
   ]
  },
  {
   "cell_type": "code",
   "execution_count": 11,
   "metadata": {},
   "outputs": [],
   "source": [
    "spark = SparkSession.builder \\\n",
    "    .appName(\"spark\") \\\n",
    "    .master(\"local[*]\") \\\n",
    "    .config(\"spark.jars\", \"/usr/local/spark/jars/postgresql-42.7.3.jar\") \\\n",
    "    .getOrCreate()\n"
   ]
  },
  {
   "cell_type": "code",
   "execution_count": 14,
   "metadata": {},
   "outputs": [
    {
     "name": "stdout",
     "output_type": "stream",
     "text": [
      "+---+-------+-----+\n",
      "| id|   name|value|\n",
      "+---+-------+-----+\n",
      "|  1|  Alice| 10.5|\n",
      "|  2|    Bob| 20.5|\n",
      "|  3|Charlie| 30.5|\n",
      "+---+-------+-----+\n",
      "\n"
     ]
    }
   ],
   "source": [
    "df_postgres = spark.read.jdbc(url=url, table=\"test_table\", properties=properties)\n",
    "df_postgres.show()"
   ]
  },
  {
   "cell_type": "code",
   "execution_count": null,
   "metadata": {},
   "outputs": [],
   "source": [
    "def extract_data(path):\n",
    "  df = spark.read.csv(path, sep=';', inferSchema=True, header=True)\n",
    "  \n",
    "  return df\n",
    "\n",
    "def transform_data(df):\n",
    "  df = df.withColumn(\n",
    "      \"Data da Coleta\",\n",
    "      f.to_date(f.col(\"Data da Coleta\").cast(StringType()), 'dd/MM/yyyy')\n",
    "      )\\\n",
    "      .withColumn('Valor de Venda', f.regexp_replace('Valor de Venda', ',', '.'))\\\n",
    "      .withColumn('Valor de Venda', f.col('Valor de Venda').cast(DoubleType()))\\\n",
    "      .withColumn('Valor de Compra', f.regexp_replace('Valor de Compra', ',', '.'))\\\n",
    "      .withColumn('Valor de Compra', f.col('Valor de Compra').cast(DoubleType()))\\\n",
    "      .dropna(subset=['Valor de Venda', 'Valor de Compra'])\\\n",
    "      .fillna({'Complemento': 'S/C'})\n",
    "      \n",
    "  df = df.withColumnRenamed('Regiao - Sigla', 'Regiao_Sigla') \\\n",
    "       .withColumnRenamed('Estado - Sigla', 'Estado_Sigla') \\\n",
    "       .withColumnRenamed('CNPJ da Revenda', 'CNPJ_Revenda') \\\n",
    "       .withColumnRenamed('Data da Coleta', 'Data_Coleta') \\\n",
    "       .withColumnRenamed('Nome da Rua', 'Nome_Rua') \\\n",
    "       .withColumnRenamed('Numero Rua', 'Numero_Rua')\\\n",
    "       .withColumnRenamed('Valor de Venda', 'Valor_Venda') \\\n",
    "       .withColumnRenamed('Valor de Compra', 'Valor_Compra')\n",
    "      \n",
    "  return df"
   ]
  },
  {
   "cell_type": "code",
   "execution_count": null,
   "metadata": {},
   "outputs": [],
   "source": [
    "base_path = '/home/jovyan/data/'"
   ]
  },
  {
   "cell_type": "code",
   "execution_count": null,
   "metadata": {},
   "outputs": [],
   "source": [
    "path = base_path+'ca-2020-02.csv'\n",
    "df = extract_data(path)\n",
    "df = transform_data(df)"
   ]
  },
  {
   "cell_type": "code",
   "execution_count": null,
   "metadata": {},
   "outputs": [],
   "source": [
    "df.show(5, False)"
   ]
  },
  {
   "cell_type": "code",
   "execution_count": null,
   "metadata": {},
   "outputs": [],
   "source": [
    "dim_produto = df.select('Produto').distinct()\\\n",
    "                .withColumn('Produto_ID', uuid_udf())\n",
    "\n",
    "# Criar DIM_Revenda\n",
    "dim_revenda = df.select(f.col('CNPJ_Revenda'), f.col('Revenda').alias('Nome_Revenda')).distinct()\\\n",
    "                .withColumn('Revenda_ID', uuid_udf())\n",
    "\n",
    "# Criar DIM_Tempo\n",
    "dim_tempo = df.select('Data_Coleta').distinct()\\\n",
    "              .withColumn('Tempo_ID', uuid_udf())\\\n",
    "              .withColumn('Dia', f.dayofmonth(f.col('Data_Coleta')))\\\n",
    "              .withColumn('Mes', f.month(f.col('Data_Coleta')))\\\n",
    "              .withColumn('Ano', f.year(f.col('Data_Coleta')))\\\n",
    "              .withColumn('Dia_Semana', f.dayofweek(f.col('Data_Coleta')))\n",
    "\n",
    "# Criar DIM_Localizacao e DIM_Localizacao_Geografica\n",
    "dim_localizacao = df.select('Regiao_Sigla', 'Estado_Sigla', 'Municipio', 'Bairro', 'Cep').distinct()\\\n",
    "                    .withColumn('Localizacao_ID', uuid_udf())\n",
    "\n",
    "# Criar DIM_Endereco\n",
    "dim_endereco = df.select('Nome_Rua', 'Numero_Rua', 'Complemento').distinct()\\\n",
    "                 .withColumn('Endereco_ID', uuid_udf())\n"
   ]
  },
  {
   "cell_type": "code",
   "execution_count": null,
   "metadata": {},
   "outputs": [],
   "source": [
    "dim_produto.show()\n",
    "dim_revenda.show(5, False)\n",
    "dim_tempo.show(5, False)\n",
    "dim_localizacao.show(5, False)\n",
    "dim_endereco.show(5, False)"
   ]
  },
  {
   "cell_type": "code",
   "execution_count": null,
   "metadata": {},
   "outputs": [],
   "source": [
    "# Criar visualizações temporárias para os DataFrames\n",
    "df.createOrReplaceTempView(\"df\")\n",
    "dim_produto.createOrReplaceTempView(\"dim_produto\")\n",
    "dim_revenda.createOrReplaceTempView(\"dim_revenda\")\n",
    "dim_tempo.createOrReplaceTempView(\"dim_tempo\")\n",
    "dim_localizacao.createOrReplaceTempView(\"dim_localizacao\")\n",
    "dim_endereco.createOrReplaceTempView(\"dim_endereco\")\n"
   ]
  }
 ],
 "metadata": {
  "kernelspec": {
   "display_name": "Python 3 (ipykernel)",
   "language": "python",
   "name": "python3"
  },
  "language_info": {
   "codemirror_mode": {
    "name": "ipython",
    "version": 3
   },
   "file_extension": ".py",
   "mimetype": "text/x-python",
   "name": "python",
   "nbconvert_exporter": "python",
   "pygments_lexer": "ipython3",
   "version": "3.11.6"
  }
 },
 "nbformat": 4,
 "nbformat_minor": 2
}

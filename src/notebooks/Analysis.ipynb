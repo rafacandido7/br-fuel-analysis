{
 "cells": [
  {
   "cell_type": "markdown",
   "metadata": {},
   "source": [
    "# Análise sobre os Preços dos Combustíveis no Brasil\n",
    "\n",
    "Aluno: Rafael Pereira Cândido\n",
    "\n",
    "Matrícula: 2221134\n",
    "\n",
    "Curso: Ciência da Computação\n",
    "\n",
    "Esse trabalho tem o propósito de analizar os preços dos combustíveis no Brasil do período de 2003 até 2023."
   ]
  },
  {
   "cell_type": "markdown",
   "metadata": {},
   "source": [
    "Chat sobre as queries e modelagem...: https://chatgpt.com/share/973eee34-e214-485c-8001-240b457834bf"
   ]
  },
  {
   "cell_type": "code",
   "execution_count": 27,
   "metadata": {},
   "outputs": [],
   "source": [
    "from pyspark.sql import SparkSession\n",
    "from pyspark.sql.types import DoubleType, StringType\n",
    "from pyspark.sql import functions as f"
   ]
  },
  {
   "cell_type": "code",
   "execution_count": 28,
   "metadata": {},
   "outputs": [],
   "source": [
    "url = \"jdbc:postgresql://db:5432/fuel_analysis\"\n",
    "properties = {\n",
    "    \"user\": \"root\",\n",
    "    \"password\": \"root\",\n",
    "    \"driver\": \"org.postgresql.Driver\"\n",
    "}"
   ]
  },
  {
   "cell_type": "code",
   "execution_count": 29,
   "metadata": {},
   "outputs": [],
   "source": [
    "spark = SparkSession.builder \\\n",
    "    .appName(\"spark\") \\\n",
    "    .master(\"local[*]\") \\\n",
    "    .config(\"spark.jars\", \"/usr/local/spark/jars/postgresql-42.7.3.jar\") \\\n",
    "    .getOrCreate()\n"
   ]
  },
  {
   "cell_type": "code",
   "execution_count": 52,
   "metadata": {},
   "outputs": [],
   "source": [
    "def extract_data(path):\n",
    "  df = spark.read.csv(path, sep=';', inferSchema=True, header=True)\n",
    "  \n",
    "  return df\n",
    "\n",
    "def load_dim_table(table_name):\n",
    "    return spark.read.jdbc(url=url, table=table_name, properties=properties)\n",
    "  \n",
    "def load_data_to_db(df, table_name):\n",
    "    df.write.jdbc(url=url, table=table_name, mode=\"append\", properties=properties)\n",
    "    \n",
    "def upsert_dim_table(df, table_name, key_columns):\n",
    "        existing_df = load_dim_table(table_name)\n",
    "        new_df = df.join(existing_df, key_columns, 'leftanti')\n",
    "        if new_df.count() > 0:\n",
    "            load_data_to_db(new_df, table_name)"
   ]
  },
  {
   "cell_type": "code",
   "execution_count": 31,
   "metadata": {},
   "outputs": [],
   "source": [
    "base_path = '/home/jovyan/data/'\n",
    "path = base_path+'ca-2020-02.csv'\n",
    "df = extract_data(path)"
   ]
  },
  {
   "cell_type": "code",
   "execution_count": 32,
   "metadata": {},
   "outputs": [
    {
     "name": "stdout",
     "output_type": "stream",
     "text": [
      "222637\n"
     ]
    }
   ],
   "source": [
    "print(df.count())"
   ]
  },
  {
   "cell_type": "code",
   "execution_count": 33,
   "metadata": {},
   "outputs": [],
   "source": [
    "def transform_data(df):\n",
    "  # We have Values with NULL in 'Valor de Venda' column, so we need to drop them ()\n",
    "  df = df.withColumn(\n",
    "      \"Data da Coleta\",\n",
    "      f.to_date(f.col(\"Data da Coleta\").cast(StringType()), 'dd/MM/yyyy')\n",
    "      )\\\n",
    "      .withColumn('Valor de Venda', f.regexp_replace('Valor de Venda', ',', '.'))\\\n",
    "      .withColumn('Valor de Venda', f.col('Valor de Venda').cast(DoubleType()))\\\n",
    "      .withColumn('Valor de Compra', f.regexp_replace('Valor de Compra', ',', '.'))\\\n",
    "      .withColumn('Valor de Compra', f.col('Valor de Compra').cast(DoubleType()))\\\n",
    "      .dropna(subset=['Valor de Venda'])\\\n",
    "      .fillna({'Complemento': 'S/C'})\n",
    "      \n",
    "  df = df.withColumnRenamed('Regiao - Sigla', 'Regiao_Sigla') \\\n",
    "       .withColumnRenamed('Estado - Sigla', 'Estado_Sigla') \\\n",
    "       .withColumnRenamed('CNPJ da Revenda', 'CNPJ_Revenda') \\\n",
    "       .withColumnRenamed('Data da Coleta', 'Data_Coleta') \\\n",
    "       .withColumnRenamed('Nome da Rua', 'Nome_Rua') \\\n",
    "       .withColumnRenamed('Numero Rua', 'Numero_Rua')\\\n",
    "       .withColumnRenamed('Valor de Venda', 'Valor_Venda') \\\n",
    "       .withColumnRenamed('Valor de Compra', 'Valor_Compra')\n",
    "      \n",
    "  return df"
   ]
  },
  {
   "cell_type": "code",
   "execution_count": 34,
   "metadata": {},
   "outputs": [],
   "source": [
    "def create_dim_tempo(df):\n",
    "    dim_tempo = df.select(\n",
    "        f.col(\"Data_Coleta\").alias(\"data_coleta\"),\n",
    "        f.dayofmonth(\"Data_Coleta\").alias(\"dia\"),\n",
    "        f.month(\"Data_Coleta\").alias(\"mes\"),\n",
    "        f.year(\"Data_Coleta\").alias(\"ano\"),\n",
    "        f.dayofweek(\"Data_Coleta\").alias(\"dia_semana\")\n",
    "    ).distinct()\n",
    "    return dim_tempo\n",
    "\n",
    "def create_dim_localizacao(df):\n",
    "    dim_localizacao = df.select(\n",
    "        f.col(\"Regiao_Sigla\").alias(\"regiao_Sigla\"), \n",
    "        f.col(\"Estado_Sigla\").alias(\"estado_Sigla\"), \n",
    "        f.col(\"Municipio\").alias(\"municipio\"), \n",
    "        f.col(\"Bairro\").alias(\"bairro\"), \n",
    "        f.col(\"Cep\").alias(\"cep\")\n",
    "    ).distinct()\n",
    "    return dim_localizacao\n",
    "\n",
    "def create_dim_produto(df):\n",
    "    dim_produto = df.select(f.col(\"Produto\").alias(\"produto\")).distinct()\n",
    "    return dim_produto\n",
    "\n",
    "def create_dim_revenda(df):\n",
    "    dim_revenda = df.select(\n",
    "        f.col(\"CNPJ_Revenda\").alias(\"cnpj_revenda\"), \n",
    "        f.col(\"Revenda\").alias(\"nome_revenda\")\n",
    "    ).distinct()\n",
    "    return dim_revenda\n",
    "\n",
    "def create_dim_endereco(df):\n",
    "    dim_endereco = df.select(\n",
    "         f.col(\"Nome_Rua\").alias(\"nome_rua\"), \n",
    "         f.col(\"Numero_Rua\").alias(\"numero_rua\"), \n",
    "         f.col(\"Complemento\").alias(\"complemento\")\n",
    "    ).distinct()\n",
    "    return dim_endereco"
   ]
  },
  {
   "cell_type": "code",
   "execution_count": 35,
   "metadata": {},
   "outputs": [],
   "source": [
    "df = transform_data(df)"
   ]
  },
  {
   "cell_type": "code",
   "execution_count": 36,
   "metadata": {},
   "outputs": [
    {
     "name": "stdout",
     "output_type": "stream",
     "text": [
      "222637\n"
     ]
    }
   ],
   "source": [
    "print(df.count()) "
   ]
  },
  {
   "cell_type": "code",
   "execution_count": 37,
   "metadata": {},
   "outputs": [],
   "source": [
    "dim_tempo = create_dim_tempo(df)\n",
    "dim_localizacao = create_dim_localizacao(df)\n",
    "dim_produto = create_dim_produto(df)\n",
    "dim_revenda = create_dim_revenda(df)\n",
    "dim_endereco = create_dim_endereco(df)"
   ]
  },
  {
   "cell_type": "code",
   "execution_count": 38,
   "metadata": {},
   "outputs": [],
   "source": [
    "upsert_dim_table(dim_tempo, \"dim_tempo\", [\"data_coleta\", \"dia\", \"mes\", \"ano\", \"dia_semana\"])\n",
    "upsert_dim_table(dim_localizacao, \"dim_localizacao\", [\"regiao_sigla\", \"estado_sigla\", \"municipio\", \"bairro\", \"cep\"])\n",
    "upsert_dim_table(dim_produto, \"dim_produto\", [\"produto\"])\n",
    "upsert_dim_table(dim_revenda, \"dim_revenda\", [\"cnpj_revenda\", \"nome_revenda\"])\n",
    "upsert_dim_table(dim_endereco, \"dim_endereco\", [\"nome_rua\", \"numero_rua\", \"complemento\"])"
   ]
  },
  {
   "cell_type": "code",
   "execution_count": 39,
   "metadata": {},
   "outputs": [],
   "source": [
    "dim_tempo_db = load_dim_table(\"dim_tempo\")\n",
    "dim_localizacao_db = load_dim_table(\"dim_localizacao\")\n",
    "dim_produto_db = load_dim_table(\"dim_produto\")\n",
    "dim_revenda_db = load_dim_table(\"dim_revenda\")\n",
    "dim_endereco_db = load_dim_table(\"dim_endereco\")"
   ]
  },
  {
   "cell_type": "code",
   "execution_count": 40,
   "metadata": {},
   "outputs": [],
   "source": [
    "def create_fato_venda(df, dim_tempo, dim_localizacao, dim_produto, dim_revenda, dim_endereco):\n",
    "    fato_venda = df.join(dim_tempo, df.Data_Coleta == dim_tempo.data_coleta, 'left') \\\n",
    "                   .join(dim_localizacao, (df.Regiao_Sigla == dim_localizacao.regiao_sigla) & \n",
    "                                         (df.Estado_Sigla == dim_localizacao.estado_sigla) & \n",
    "                                         (df.Municipio == dim_localizacao.municipio) & \n",
    "                                         (df.Bairro == dim_localizacao.bairro) & \n",
    "                                         (df.Cep == dim_localizacao.cep), 'left') \\\n",
    "                   .join(dim_produto, df.Produto == dim_produto.produto, 'left') \\\n",
    "                   .join(dim_revenda, (df.CNPJ_Revenda == dim_revenda.cnpj_revenda) & \n",
    "                                      (df.Revenda == dim_revenda.nome_revenda), 'left') \\\n",
    "                   .join(dim_endereco, (df.Nome_Rua == dim_endereco.nome_rua) & \n",
    "                                       (df.Numero_Rua == dim_endereco.numero_rua) & \n",
    "                                       (df.Complemento == dim_endereco.complemento), 'left') \\\n",
    "                   .select(\n",
    "                       \"tempo_id\",\n",
    "                       \"localizacao_id\",\n",
    "                       \"produto_id\",\n",
    "                       \"revenda_id\",\n",
    "                       \"endereco_id\",\n",
    "                       f.col(\"Valor_Venda\").alias('valor_venda'),\n",
    "                       f.col(\"Valor_Compra\").alias('valor_compra'),\n",
    "                   )\n",
    "    return fato_venda"
   ]
  },
  {
   "cell_type": "code",
   "execution_count": 41,
   "metadata": {},
   "outputs": [],
   "source": [
    "fato_venda = create_fato_venda(df, dim_tempo_db, dim_localizacao_db, dim_produto_db, dim_revenda_db, dim_endereco_db)\n"
   ]
  },
  {
   "cell_type": "code",
   "execution_count": 43,
   "metadata": {},
   "outputs": [],
   "source": [
    "load_data_to_db(fato_venda, \"fato_venda\")"
   ]
  },
  {
   "cell_type": "code",
   "execution_count": 47,
   "metadata": {},
   "outputs": [],
   "source": [
    "resultado = aa.alias(\"fv\") \\\n",
    "    .join(dim_tempo_db.alias(\"dt\"), f.col(\"fv.tempo_id\") == f.col(\"dt.tempo_id\")) \\\n",
    "    .select(\n",
    "        f.col(\"fv.venda_id\"),\n",
    "        f.col(\"fv.tempo_id\"),\n",
    "        f.col(\"fv.localizacao_id\"),\n",
    "        f.col(\"fv.produto_id\"),\n",
    "        f.col(\"fv.revenda_id\"),\n",
    "        f.col(\"fv.endereco_id\"),\n",
    "        f.col(\"fv.valor_venda\"),\n",
    "        f.col(\"fv.valor_compra\"),\n",
    "        f.col(\"dt.data_coleta\"),\n",
    "        f.col(\"dt.dia\"),\n",
    "        f.col(\"dt.mes\"),\n",
    "        f.col(\"dt.ano\"),\n",
    "        f.col(\"dt.dia_semana\")\n",
    "    )\n"
   ]
  }
 ],
 "metadata": {
  "kernelspec": {
   "display_name": "Python 3 (ipykernel)",
   "language": "python",
   "name": "python3"
  }
 },
 "nbformat": 4,
 "nbformat_minor": 2
}

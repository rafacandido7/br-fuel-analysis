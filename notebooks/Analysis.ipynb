{
 "cells": [
  {
   "cell_type": "markdown",
   "metadata": {},
   "source": [
    "# Análise sobre os Preços dos Combustíveis no Brasil\n",
    "\n",
    "Aluno: Rafael Pereira Cândido\n",
    "\n",
    "Matrícula: 2221134\n",
    "\n",
    "Curso: Ciência da Computação\n",
    "\n",
    "Esse trabalho tem o propósito de analizar os preços dos combustíveis no Brasil do período de 2003 até 2023."
   ]
  },
  {
   "cell_type": "code",
   "execution_count": 8,
   "metadata": {},
   "outputs": [],
   "source": [
    "from pyspark.sql import SparkSession\n",
    "from pyspark.sql.types import DoubleType, StringType\n",
    "from pyspark.sql import functions as f"
   ]
  },
  {
   "cell_type": "code",
   "execution_count": 9,
   "metadata": {},
   "outputs": [],
   "source": [
    "spark = SparkSession.builder \\\n",
    "        .appName(\"Processamento de Chunks\") \\\n",
    "        .getOrCreate()"
   ]
  },
  {
   "cell_type": "code",
   "execution_count": 10,
   "metadata": {},
   "outputs": [],
   "source": [
    "def handle_data(path):\n",
    "  df = spark.read.csv(path, sep=';', inferSchema=True, header=True)\n",
    "\n",
    "  # Sanitize data\n",
    "  df = df.withColumn(\n",
    "      \"Data da Coleta\",\n",
    "      f.to_date(f.col(\"Data da Coleta\").cast(StringType()), 'dd/MM/yyyy')\n",
    "      )\\\n",
    "      .withColumn('Valor de Venda', f.regexp_replace('Valor de Venda', ',', '.'))\\\n",
    "      .withColumn('Valor de Venda', f.col('Valor de Venda').cast(DoubleType()))\\\n",
    "      .withColumn('Valor de Compra', f.regexp_replace('Valor de Compra', ',', '.'))\\\n",
    "      .withColumn('Valor de Compra', f.col('Valor de Compra').cast(DoubleType()))\\\n",
    "      .fillna({'Complemento': 'S/C'})\n",
    "\n",
    "  return df"
   ]
  },
  {
   "cell_type": "code",
   "execution_count": 11,
   "metadata": {},
   "outputs": [],
   "source": [
    "base_path = '/home/jovyan/data/'"
   ]
  },
  {
   "cell_type": "code",
   "execution_count": 13,
   "metadata": {},
   "outputs": [],
   "source": [
    "path = base_path+'ca-2022-01.csv'\n",
    "df = handle_data(path)"
   ]
  },
  {
   "cell_type": "code",
   "execution_count": 7,
   "metadata": {},
   "outputs": [
    {
     "name": "stdout",
     "output_type": "stream",
     "text": [
      "+--------------+--------------+----------+-------------------------+-------------------+----------------+----------+-----------+------+---------+------------------+--------------+--------------+---------------+-----------------+-------------+\n",
      "|Regiao - Sigla|Estado - Sigla|Municipio |Revenda                  |CNPJ da Revenda    |Nome da Rua     |Numero Rua|Complemento|Bairro|Cep      |Produto           |Data da Coleta|Valor de Venda|Valor de Compra|Unidade de Medida|Bandeira     |\n",
      "+--------------+--------------+----------+-------------------------+-------------------+----------------+----------+-----------+------+---------+------------------+--------------+--------------+---------------+-----------------+-------------+\n",
      "|N             |AC            |RIO BRANCO|AUTO POSTO AMAPA - EIRELI| 00.529.581/0001-53|VIA CHICO MENDES|3570      |NULL       |AREAL |69906-119|GASOLINA          |03/01/2022    |6,99          |NULL           |R$ / litro       |VIBRA ENERGIA|\n",
      "|N             |AC            |RIO BRANCO|AUTO POSTO AMAPA - EIRELI| 00.529.581/0001-53|VIA CHICO MENDES|3570      |NULL       |AREAL |69906-119|ETANOL            |03/01/2022    |5,99          |NULL           |R$ / litro       |VIBRA ENERGIA|\n",
      "|N             |AC            |RIO BRANCO|AUTO POSTO AMAPA - EIRELI| 00.529.581/0001-53|VIA CHICO MENDES|3570      |NULL       |AREAL |69906-119|DIESEL            |03/01/2022    |6,09          |NULL           |R$ / litro       |VIBRA ENERGIA|\n",
      "|N             |AC            |RIO BRANCO|AUTO POSTO AMAPA - EIRELI| 00.529.581/0001-53|VIA CHICO MENDES|3570      |NULL       |AREAL |69906-119|GASOLINA ADITIVADA|03/01/2022    |7,05          |NULL           |R$ / litro       |VIBRA ENERGIA|\n",
      "|N             |AC            |RIO BRANCO|AUTO POSTO AMAPA - EIRELI| 00.529.581/0001-53|VIA CHICO MENDES|3570      |NULL       |AREAL |69906-119|DIESEL S10        |03/01/2022    |6,12          |NULL           |R$ / litro       |VIBRA ENERGIA|\n",
      "+--------------+--------------+----------+-------------------------+-------------------+----------------+----------+-----------+------+---------+------------------+--------------+--------------+---------------+-----------------+-------------+\n",
      "only showing top 5 rows\n",
      "\n"
     ]
    }
   ],
   "source": [
    "df.show(5, False)"
   ]
  },
  {
   "cell_type": "code",
   "execution_count": 16,
   "metadata": {},
   "outputs": [
    {
     "name": "stdout",
     "output_type": "stream",
     "text": [
      "root\n",
      " |-- Regiao - Sigla: string (nullable = true)\n",
      " |-- Estado - Sigla: string (nullable = true)\n",
      " |-- Municipio: string (nullable = true)\n",
      " |-- Revenda: string (nullable = true)\n",
      " |-- CNPJ da Revenda: string (nullable = true)\n",
      " |-- Nome da Rua: string (nullable = true)\n",
      " |-- Numero Rua: string (nullable = true)\n",
      " |-- Complemento: string (nullable = false)\n",
      " |-- Bairro: string (nullable = true)\n",
      " |-- Cep: string (nullable = true)\n",
      " |-- Produto: string (nullable = true)\n",
      " |-- Data da Coleta: date (nullable = true)\n",
      " |-- Valor de Venda: double (nullable = true)\n",
      " |-- Valor de Compra: double (nullable = true)\n",
      " |-- Unidade de Medida: string (nullable = true)\n",
      " |-- Bandeira: string (nullable = true)\n",
      "\n",
      "529424\n"
     ]
    }
   ],
   "source": [
    "df.printSchema()\n",
    "print(df.count())"
   ]
  },
  {
   "cell_type": "code",
   "execution_count": 17,
   "metadata": {},
   "outputs": [],
   "source": [
    "df_gasolina = df.filter(df.Produto == 'GASOLINA')"
   ]
  },
  {
   "cell_type": "code",
   "execution_count": 18,
   "metadata": {},
   "outputs": [
    {
     "name": "stdout",
     "output_type": "stream",
     "text": [
      "+--------------+--------------+----------+-------------------------+-------------------+---------------------------------------+----------+-----------+----------+---------+--------+--------------+--------------+---------------+-----------------+-------------+\n",
      "|Regiao - Sigla|Estado - Sigla|Municipio |Revenda                  |CNPJ da Revenda    |Nome da Rua                            |Numero Rua|Complemento|Bairro    |Cep      |Produto |Data da Coleta|Valor de Venda|Valor de Compra|Unidade de Medida|Bandeira     |\n",
      "+--------------+--------------+----------+-------------------------+-------------------+---------------------------------------+----------+-----------+----------+---------+--------+--------------+--------------+---------------+-----------------+-------------+\n",
      "|N             |AC            |RIO BRANCO|AUTO POSTO AMAPA - EIRELI| 00.529.581/0001-53|VIA CHICO MENDES                       |3570      |S/C        |AREAL     |69906-119|GASOLINA|2022-01-03    |6.99          |NULL           |R$ / litro       |VIBRA ENERGIA|\n",
      "|N             |AC            |RIO BRANCO|AUTO POSTO ACAUAN LTDA   | 00.524.999/0001-78|RODOVIA AC 40                          |1800      |S/C        |VILA ACRE |69902-450|GASOLINA|2022-01-03    |6.99          |NULL           |R$ / litro       |VIBRA ENERGIA|\n",
      "|N             |AC            |RIO BRANCO|AUTO POSTO CORRENTAO LTDA| 06.189.982/0001-98|RODOVIA BR-364 (RIO BRANCO-PORTO VELHO)|4773      |S/C        |SANTA INES|69907-701|GASOLINA|2022-01-03    |6.98          |NULL           |R$ / litro       |BRANCA       |\n",
      "|N             |AC            |RIO BRANCO|AUTO POSTO CANINDE LTDA  | 05.442.544/0001-27|RODOVIA AC 40                          |3206      |KM 07      |VILA ACRE |69902-450|GASOLINA|2022-01-03    |6.98          |NULL           |R$ / litro       |SABBÁ        |\n",
      "|N             |AC            |RIO BRANCO|POSTO BATISTA LTDA       | 04.517.975/0001-42|VIA CHICO MENDES                       |711       |S/C        |VILA DNER |69906-150|GASOLINA|2022-01-03    |6.87          |NULL           |R$ / litro       |VIBRA ENERGIA|\n",
      "+--------------+--------------+----------+-------------------------+-------------------+---------------------------------------+----------+-----------+----------+---------+--------+--------------+--------------+---------------+-----------------+-------------+\n",
      "only showing top 5 rows\n",
      "\n"
     ]
    }
   ],
   "source": [
    "df_gasolina.show(5, False)"
   ]
  },
  {
   "cell_type": "code",
   "execution_count": 19,
   "metadata": {},
   "outputs": [
    {
     "name": "stdout",
     "output_type": "stream",
     "text": [
      "+--------------------------+\n",
      "|media_valor_venda_gasolina|\n",
      "+--------------------------+\n",
      "|          7.02321269256594|\n",
      "+--------------------------+\n",
      "\n"
     ]
    }
   ],
   "source": [
    "# Média do preço da gasolina de todos os dados\n",
    "\n",
    "media_gasolina_todos = df_gasolina.agg(f.avg('Valor de Venda').alias('media_valor_venda_gasolina'))\n",
    "media_gasolina_todos.show()"
   ]
  },
  {
   "cell_type": "code",
   "execution_count": 20,
   "metadata": {},
   "outputs": [
    {
     "name": "stdout",
     "output_type": "stream",
     "text": [
      "+-----------------------------+\n",
      "|media_valor_venda_gasolina_df|\n",
      "+-----------------------------+\n",
      "|            7.221960461285014|\n",
      "+-----------------------------+\n",
      "\n"
     ]
    }
   ],
   "source": [
    "# Média do preço da gasolina no estado do DF\n",
    "media_gasolina_df = df_gasolina.filter(df_gasolina['Estado - Sigla'] == 'DF') \\\n",
    "    .agg(f.avg('Valor de Venda').alias('media_valor_venda_gasolina_df'))\n",
    "media_gasolina_df.show()"
   ]
  },
  {
   "cell_type": "code",
   "execution_count": 21,
   "metadata": {},
   "outputs": [
    {
     "name": "stdout",
     "output_type": "stream",
     "text": [
      "+--------------+--------------------------+\n",
      "|Estado - Sigla|media_valor_venda_gasolina|\n",
      "+--------------+--------------------------+\n",
      "|AC            |7.412036108324978         |\n",
      "|AL            |7.093333333333335         |\n",
      "|AM            |7.220469226081652         |\n",
      "|AP            |6.224166666666665         |\n",
      "|BA            |7.433811199061843         |\n",
      "|CE            |7.231936131753342         |\n",
      "|DF            |7.221960461285014         |\n",
      "|ES            |7.1757544378698235        |\n",
      "|GO            |7.288086649676514         |\n",
      "|MA            |7.064512987012989         |\n",
      "|MG            |7.348636777423767         |\n",
      "|MS            |7.003534617386782         |\n",
      "|MT            |6.7917960634226135        |\n",
      "|PA            |7.269841526520049         |\n",
      "|PB            |6.901242866201656         |\n",
      "|PE            |7.007469177314493         |\n",
      "|PI            |7.610396158463386         |\n",
      "|PR            |6.934694251190036         |\n",
      "|RJ            |7.616037356661521         |\n",
      "|RN            |7.385852197070573         |\n",
      "|RO            |7.2054189560439585        |\n",
      "|RR            |6.838966565349545         |\n",
      "|RS            |6.76987368895905          |\n",
      "|SC            |6.879261487964967         |\n",
      "|SE            |7.038848263254117         |\n",
      "|SP            |6.67803624987079          |\n",
      "|TO            |7.2632930845225046        |\n",
      "+--------------+--------------------------+\n",
      "\n"
     ]
    }
   ],
   "source": [
    "media_gasolina_por_estado = df_gasolina.groupBy('Estado - Sigla')\\\n",
    "    .agg(f.avg('Valor de Venda').alias('media_valor_venda_gasolina'))\\\n",
    "    .orderBy('Estado - Sigla')\n",
    "media_gasolina_por_estado.show(50, False)"
   ]
  }
 ],
 "metadata": {
  "kernelspec": {
   "display_name": "Python 3 (ipykernel)",
   "language": "python",
   "name": "python3"
  },
  "language_info": {
   "codemirror_mode": {
    "name": "ipython",
    "version": 3
   },
   "file_extension": ".py",
   "mimetype": "text/x-python",
   "name": "python",
   "nbconvert_exporter": "python",
   "pygments_lexer": "ipython3",
   "version": "3.11.6"
  }
 },
 "nbformat": 4,
 "nbformat_minor": 2
}
